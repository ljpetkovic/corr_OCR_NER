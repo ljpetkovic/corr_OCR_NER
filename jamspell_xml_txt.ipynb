{
  "nbformat": 4,
  "nbformat_minor": 0,
  "metadata": {
    "colab": {
      "provenance": [],
      "collapsed_sections": []
    },
    "kernelspec": {
      "name": "python3",
      "display_name": "Python 3"
    }
  },
  "cells": [
    {
      "cell_type": "markdown",
      "source": [
        "##  **`jamspell`** : librairie de correction d'orthographe contextuelle\n",
        "* développée par Filipp Ozinov ([dépôt GitHub](https://github.com/bakwc/JamSpell))\n",
        "* écrite en C++\n",
        "* <u>prérequis</u> : installer les _bindings_ `swig` \n",
        "  * compilateur d'interface qui connecte des programmes écrits en C++ avec, en l'occurrence, le langage Python\n",
        "* [instructions d'installation en local](https://github.com/bakwc/JamSpell/#usage)\n",
        "  * pour contourner les problèmes d'installation potentiels du `swig` et, par conséquent, de `jamspell`, envisagez à utiliser Colab"
      ],
      "metadata": {
        "id": "Hoqpo17hlWIk"
      }
    },
    {
      "cell_type": "markdown",
      "source": [
        "### Installer `swig` "
      ],
      "metadata": {
        "id": "iMDxN9OTgB5n"
      }
    },
    {
      "cell_type": "code",
      "metadata": {
        "id": "CZJKcGFUXboA",
        "outputId": "136990fa-509c-49a5-c686-37e4a215ee0a",
        "colab": {
          "base_uri": "https://localhost:8080/"
        }
      },
      "source": [
        "!sudo apt-get install swig"
      ],
      "execution_count": null,
      "outputs": [
        {
          "output_type": "stream",
          "name": "stdout",
          "text": [
            "Reading package lists... Done\n",
            "Building dependency tree       \n",
            "Reading state information... Done\n",
            "The following package was automatically installed and is no longer required:\n",
            "  libnvidia-common-460\n",
            "Use 'sudo apt autoremove' to remove it.\n",
            "The following additional packages will be installed:\n",
            "  swig3.0\n",
            "Suggested packages:\n",
            "  swig-doc swig-examples swig3.0-examples swig3.0-doc\n",
            "The following NEW packages will be installed:\n",
            "  swig swig3.0\n",
            "0 upgraded, 2 newly installed, 0 to remove and 20 not upgraded.\n",
            "Need to get 1,100 kB of archives.\n",
            "After this operation, 5,822 kB of additional disk space will be used.\n",
            "Get:1 http://archive.ubuntu.com/ubuntu bionic/universe amd64 swig3.0 amd64 3.0.12-1 [1,094 kB]\n",
            "Get:2 http://archive.ubuntu.com/ubuntu bionic/universe amd64 swig amd64 3.0.12-1 [6,460 B]\n",
            "Fetched 1,100 kB in 1s (1,462 kB/s)\n",
            "debconf: unable to initialize frontend: Dialog\n",
            "debconf: (No usable dialog-like program is installed, so the dialog based frontend cannot be used. at /usr/share/perl5/Debconf/FrontEnd/Dialog.pm line 76, <> line 2.)\n",
            "debconf: falling back to frontend: Readline\n",
            "debconf: unable to initialize frontend: Readline\n",
            "debconf: (This frontend requires a controlling tty.)\n",
            "debconf: falling back to frontend: Teletype\n",
            "dpkg-preconfigure: unable to re-open stdin: \n",
            "Selecting previously unselected package swig3.0.\n",
            "(Reading database ... 155676 files and directories currently installed.)\n",
            "Preparing to unpack .../swig3.0_3.0.12-1_amd64.deb ...\n",
            "Unpacking swig3.0 (3.0.12-1) ...\n",
            "Selecting previously unselected package swig.\n",
            "Preparing to unpack .../swig_3.0.12-1_amd64.deb ...\n",
            "Unpacking swig (3.0.12-1) ...\n",
            "Setting up swig3.0 (3.0.12-1) ...\n",
            "Setting up swig (3.0.12-1) ...\n",
            "Processing triggers for man-db (2.8.3-2ubuntu0.1) ...\n"
          ]
        }
      ]
    },
    {
      "cell_type": "markdown",
      "source": [
        "### Installer `jamspell`"
      ],
      "metadata": {
        "id": "YyM94dIRXdlt"
      }
    },
    {
      "cell_type": "code",
      "metadata": {
        "id": "aUmiFaYIXiWu",
        "outputId": "3507997b-dfe1-444b-e0aa-c990c4135133",
        "colab": {
          "base_uri": "https://localhost:8080/"
        }
      },
      "source": [
        "!sudo pip install jamspell"
      ],
      "execution_count": null,
      "outputs": [
        {
          "output_type": "stream",
          "name": "stdout",
          "text": [
            "Looking in indexes: https://pypi.org/simple, https://us-python.pkg.dev/colab-wheels/public/simple/\n",
            "Collecting jamspell\n",
            "  Downloading jamspell-0.0.12.tar.gz (174 kB)\n",
            "\u001b[K     |████████████████████████████████| 174 kB 15.4 MB/s \n",
            "\u001b[?25hBuilding wheels for collected packages: jamspell\n",
            "  Building wheel for jamspell (setup.py) ... \u001b[?25l\u001b[?25hdone\n",
            "  Created wheel for jamspell: filename=jamspell-0.0.12-cp37-cp37m-linux_x86_64.whl size=1347602 sha256=6033c9102d700879e6d34315be7370f89f12ccfe1f926717772d4825495d2b5c\n",
            "  Stored in directory: /root/.cache/pip/wheels/68/df/9c/9b335e69aa0f28e7f508ec0ebefadcc703f168beb52ae7ebe7\n",
            "Successfully built jamspell\n",
            "Installing collected packages: jamspell\n",
            "Successfully installed jamspell-0.0.12\n"
          ]
        }
      ]
    },
    {
      "cell_type": "markdown",
      "source": [
        "### Télécharger le modèle de langue français\n",
        "* corpus d'actualités (300 000 phrases) + 300 000 phrases de wikipedia\n"
      ],
      "metadata": {
        "id": "GzrSZGO7XmAx"
      }
    },
    {
      "cell_type": "code",
      "metadata": {
        "id": "OK1HqdSbXpQ7",
        "outputId": "e7817d12-5beb-4c8e-ba45-528df8fb2c5b",
        "colab": {
          "base_uri": "https://localhost:8080/"
        }
      },
      "source": [
        "!wget https://github.com/bakwc/JamSpell-models/raw/master/fr.tar.gz"
      ],
      "execution_count": null,
      "outputs": [
        {
          "output_type": "stream",
          "name": "stdout",
          "text": [
            "--2022-09-01 15:53:06--  https://github.com/bakwc/JamSpell-models/raw/master/fr.tar.gz\n",
            "Resolving github.com (github.com)... 140.82.114.3\n",
            "Connecting to github.com (github.com)|140.82.114.3|:443... connected.\n",
            "HTTP request sent, awaiting response... 302 Found\n",
            "Location: https://raw.githubusercontent.com/bakwc/JamSpell-models/master/fr.tar.gz [following]\n",
            "--2022-09-01 15:53:06--  https://raw.githubusercontent.com/bakwc/JamSpell-models/master/fr.tar.gz\n",
            "Resolving raw.githubusercontent.com (raw.githubusercontent.com)... 185.199.111.133, 185.199.108.133, 185.199.110.133, ...\n",
            "Connecting to raw.githubusercontent.com (raw.githubusercontent.com)|185.199.111.133|:443... connected.\n",
            "HTTP request sent, awaiting response... 200 OK\n",
            "Length: 32421326 (31M) [application/octet-stream]\n",
            "Saving to: ‘fr.tar.gz’\n",
            "\n",
            "fr.tar.gz           100%[===================>]  30.92M  --.-KB/s    in 0.1s    \n",
            "\n",
            "2022-09-01 15:53:07 (323 MB/s) - ‘fr.tar.gz’ saved [32421326/32421326]\n",
            "\n"
          ]
        }
      ]
    },
    {
      "cell_type": "markdown",
      "source": [
        "* <u>recommandation</u> : entraîner son propre modèle (selon les [instructions dédiées](https://github.com/bakwc/JamSpell/#train)) au moins sur quelques millions de phrases pour obtenir une meilleure qualité"
      ],
      "metadata": {
        "id": "73GiN979ZM6J"
      }
    },
    {
      "cell_type": "markdown",
      "source": [
        "### Décompresser le fichier `tar` :"
      ],
      "metadata": {
        "id": "1iHvpv5QZ_ca"
      }
    },
    {
      "cell_type": "code",
      "metadata": {
        "id": "S70BPvsUX7lw",
        "outputId": "c02b5698-9508-477f-c993-939d7c4b7351",
        "colab": {
          "base_uri": "https://localhost:8080/"
        }
      },
      "source": [
        "!tar -xvf fr.tar.gz"
      ],
      "execution_count": null,
      "outputs": [
        {
          "output_type": "stream",
          "name": "stdout",
          "text": [
            "fr.bin\n"
          ]
        }
      ]
    },
    {
      "cell_type": "markdown",
      "metadata": {
        "id": "uHwpolmcYXew"
      },
      "source": [
        "### Faire une première démo :\n"
      ]
    },
    {
      "cell_type": "code",
      "metadata": {
        "id": "LAZyrWFPYDHF",
        "colab": {
          "base_uri": "https://localhost:8080/",
          "height": 35
        },
        "outputId": "7c99b571-7df5-48ae-a45f-867246bfdff7"
      },
      "source": [
        "import jamspell \n",
        "\n",
        "jsp = jamspell.TSpellCorrector()   # initialiser le correcteur\n",
        "assert jsp.LoadLangModel('fr.bin') # spécifier le modèle de langue\n",
        "\n",
        "jsp.FixFragment(\"Bnojour, cecci est un tutorie\")"
      ],
      "execution_count": null,
      "outputs": [
        {
          "output_type": "execute_result",
          "data": {
            "text/plain": [
              "'Bonjour, ceci est un tutoriel'"
            ],
            "application/vnd.google.colaboratory.intrinsic+json": {
              "type": "string"
            }
          },
          "metadata": {},
          "execution_count": 5
        }
      ]
    },
    {
      "cell_type": "markdown",
      "source": [
        "### Créer trois dossiers où : \n",
        "* `sample_in` : données d'entrée (texte à corriger)\n",
        "* `sample_out` : données de sortie (texte corrigé)\n",
        "* `csv` : tableur .csv avec les mots orthographiquement incorrects, leurs corrections et les fréquences d'apparence des erreurs\n",
        "\n",
        "\n",
        "Ensuite, importer les fichiers à corriger et les mettre dans `sample_in`."
      ],
      "metadata": {
        "id": "xvakcEz8wuaC"
      }
    },
    {
      "cell_type": "code",
      "source": [
        "import os\n",
        "\n",
        "newpath = r'/content/drive/MyDrive/sample_in' \n",
        "if not os.path.exists(newpath):\n",
        "    os.makedirs(newpath)\n",
        "\n",
        "newpath2 = r'/content/drive/MyDrive/sample_out' \n",
        "if not os.path.exists(newpath2):\n",
        "    os.makedirs(newpath2)\n",
        "\n",
        "newpath3 = r'/content/drive/MyDrive/csv' \n",
        "if not os.path.exists(newpath3):\n",
        "    os.makedirs(newpath3)"
      ],
      "metadata": {
        "id": "x1v_BZ93wsjT"
      },
      "execution_count": null,
      "outputs": []
    },
    {
      "cell_type": "markdown",
      "source": [
        "### Passer à la correction des sorties d'OCR \n",
        "\n",
        "* si fichiers XML"
      ],
      "metadata": {
        "id": "-W7fQVy5Byh7"
      }
    },
    {
      "cell_type": "code",
      "metadata": {
        "id": "NOqWwqBLYTSt"
      },
      "source": [
        "# importer les librairies nécessaires\n",
        "import os, re, glob, csv\n",
        "from lxml import etree\n",
        "\n",
        "\n",
        "# ignorer les fichiers cachés dans le directoire avec les docs d'entrée (p. ex. le '._5419000_r.xml') \n",
        "def listdir_nohidden(path):\n",
        "    return glob.glob(os.path.join(path, '*')) \n",
        "\n",
        "\n",
        "# spécifier les docs d'entrée (échantillon) à partir desquels les sorties corrigées seront générées\n",
        "directory_in = listdir_nohidden(\"/content/drive/MyDrive/sample_in/\")\n",
        "\n",
        "\n",
        "# enlever l'extension .xml des fichiers d'entrée \n",
        "for file_in in directory_in:\n",
        "    tree = etree.parse(file_in)\n",
        "    root = tree.getroot()\n",
        "    file_in = os.path.basename(file_in)\n",
        "    file_in = os.path.splitext(file_in)[0]\n",
        "    # print(file_in) # 5419000_r, test\n",
        "    \n",
        "\n",
        "    # créer les nouveaux fichiers .txt sur lesquels les corrections seront appliquées par la suite\n",
        "    file_out = '{}'.format(file_in)+'_corr.txt'\n",
        "    # print(file_out) # 5419000_r.txt, test.txt\n",
        "    directory_out = os.path.join(\"/content/drive/MyDrive/sample_out/\", file_out)\n",
        "    \n",
        "    \n",
        "    # créer les nouveaux fichiers .csv où les erreurs avec leurs corrections seront enregistrées\n",
        "    corr_out = os.path.join('/content/drive/MyDrive/csv/', file_in+'.csv')\n",
        "    \n",
        "\n",
        "    # générer un tableur .csv où les erreurs, les corrections et les fréquences d'erreurs seront stockées\n",
        "    with open(directory_out, 'w') as f, open(corr_out, 'w') as fout:\n",
        "      writer = csv.writer(fout)\n",
        "      writer.writerow([\"Erreur\"'\\t' \"Correction\"'\\t' \"Fréquence\"'\\t']) \n",
        "        \n",
        "    \n",
        "    # enlever les balises XML afin de transférer le contenu des fichiers .xml dans les fichiers .txt\n",
        "\n",
        "\n",
        "      for elem in root.iter('*'):\n",
        "            if elem.text is not None:\n",
        "                text = elem.text.strip()\n",
        "                if elem.tail is not None:\n",
        "                    text = elem.text.strip() + str(elem.tail) # pour récupérer le texte dans la balise imbriquée\n",
        "                                                               # ex : par le moyen des <hi rend=\"i\">emblèmes</hi>,\n",
        "                    \n",
        "                    # pré-traitements\n",
        "                    text = re.sub('&', 'et', text) # l'esperluette '&' signifie 'et'\n",
        "                    text = re.sub('« \\n', '', text) # pour concaténer les mots séparés par un trait d'union \n",
        "                                                    # (sous forme d'un guillemet français ouvert)\n",
        "                    text = re.sub(\" +\", \" \", text)  # réduire les espaces multiples en un seul espace\n",
        "                    text = text.lower() # conversion en minuscules\n",
        "                    text = text.replace(\"\\n\", \" \") # pour que chaque ligne commence depuis le tout début, \n",
        "                                                   # et non pas après un espace\n",
        "                    \n",
        "                    # remplacer le guillemet simple par un guillemet français, pour éviter le problème de parsing \n",
        "                    text = text.replace(\"'\", \"’\") \n",
        "                    \n",
        "                    # effacer l'espace avant certains caractères spéciaux\n",
        "                    text = text.replace(' ,', ',') \n",
        "                    text = text.replace(' .','. ')\n",
        "                    text = text.replace(' :',':')\n",
        "                    text = text.replace(' ;',';')\n",
        "                    text = text.replace(' !','!')\n",
        "                    text = re.sub('\\s\\?','?', text)\n",
        "                    text = text.replace(' \"','\"')\n",
        "                    text = text.replace('( ','(')\n",
        "                    text = text.replace(' )',')') \n",
        "                    text = text.replace(' –','-')\n",
        "                    \n",
        "                    # remplacer les tirets moyens et longs par les tirets courts \n",
        "                    text = text.replace('–', '-') \n",
        "                    \n",
        "                    \n",
        "                    # enlever les signes de ponctuation se trouvant à la fin d'un token\n",
        "                    # car le signe de ponctuation empêche le correcteur de corriger la séquence \n",
        "                    # 'token + signe de ponctuation', même si le token est en effet écrit incorrectement\n",
        "                    # ex: 'jeuneffe,' (avec virgule) > 'jeuneffe' (incorrect)\n",
        "                    # au lieu de 'jeuneffe' (sans virgule) > 'jeunesse' (correct)\n",
        "                    text = re.sub('(?<=\\w)[,;:?!.]', '', text)\n",
        "                    \n",
        "                    a = jsp.FixFragment(text)        \n",
        "                    f.write(a + '\\n')\n",
        "\n",
        "    \n",
        "                    # tokeniser le texte avec le tokeniseur standard (ex: 'l'empire')\n",
        "                    # car celui de pyspellchecker tokenise mal (ex: 'l', 'empire')\n",
        "                    token_list = text.split()\n",
        "                    for t in token_list:\n",
        "                      m_freq = token_list.count(t)\n",
        "                      if t not in a:\n",
        "                        # print(t)\n",
        "                        fout.write(t+'\\t' + jsp.FixFragment(t)+'\\t' + str(m_freq) + ' \\n')"
      ],
      "execution_count": null,
      "outputs": []
    },
    {
      "cell_type": "markdown",
      "source": [
        "* si fichiers `.txt`"
      ],
      "metadata": {
        "id": "i0ZVtOZbBlBV"
      }
    },
    {
      "cell_type": "code",
      "source": [
        "# importer les librairies nécessaires\n",
        "import os, re, glob, csv\n",
        "from lxml import etree\n",
        "\n",
        "\n",
        "# ignorer les fichiers cachés dans le directoire avec les docs d'entrée (p. ex. le '._5419000_r.xml') \n",
        "def listdir_nohidden(path):\n",
        "    return glob.glob(os.path.join(path, '*'))\n",
        "\n",
        "\n",
        "# corriger le texte\n",
        "directory_in = listdir_nohidden(\"/content/drive/MyDrive/sample_in/\")\n",
        "for file_in in directory_in:\n",
        "  with open(file_in, 'r') as f:\n",
        "    text = f.read()\n",
        "    # print(text)\n",
        "    a = jsp.FixFragment(text)\n",
        "    # print(a[:100])\n",
        "\n",
        "# spécifier les chemins des fichiers corrigés (.txt et .csv)\n",
        "for file_in in directory_in:\n",
        "  file_in = os.path.basename(file_in)\n",
        "  file_in = os.path.splitext(file_in)[0]\n",
        "  # print(file_in) # Memoires_secrets_01_in.txt\n",
        "\n",
        "  # créer les nouveaux fichiers .txt sur lesquels les corrections seront appliquées par la suite\n",
        "  file_out = '{}'.format(file_in)+'_out.txt'\n",
        "  # print(file_out) # Memoires_secrets_01_in.txt\n",
        "  directory_out = os.path.join(\"/content/drive/MyDrive/sample_out/\", file_out)\n",
        "  # print(directory_out) # /content/drive/MyDrive/sample_out/Memoires_secrets_01_in.txt\n",
        "\n",
        "  \n",
        "  # créer les nouveaux fichiers .csv où les erreurs avec leurs corrections seront enregistrées\n",
        "  file_in = os.path.splitext(file_in)[0]\n",
        "  csv_out = os.path.join('/content/drive/MyDrive/csv/', file_in+'.csv')\n",
        "  # print(csv_out) # /content/drive/MyDrive/csv/Memoires_secrets_01_in.csv\n",
        "\n",
        "  with open(directory_out, 'w') as f, open(csv_out, 'w') as fout:\n",
        "    # writer = csv.writer(fout)\n",
        "    # writer.writerow([\"Erreur\"'\\t' \"Correction\"'\\t' \"Fréquence\"'\\t']) \n",
        "\n",
        "    f.write(a + '\\n') # générer le fichier corrigé\n",
        "\n",
        "    # tokeniser le texte avec le tokeniseur standard (ex: 'l'empire')\n",
        "    # car celui de pyspellchecker tokenise mal (ex: 'l', 'empire')\n",
        "    token_list = text.split()\n",
        "    for t in token_list:\n",
        "      m_freq = token_list.count(t)\n",
        "      if t not in a:\n",
        "        # print(t)\n",
        "        fout.write(t+'\\t' + jsp.FixFragment(t)+'\\t' + str(m_freq) + ' \\n')"
      ],
      "metadata": {
        "id": "TU6mXT2f6xQ5"
      },
      "execution_count": null,
      "outputs": []
    },
    {
      "cell_type": "code",
      "source": [
        "!zip -r '/content/drive/MyDrive/csv_corr.zip' '/content/drive/MyDrive/csv'"
      ],
      "metadata": {
        "id": "ZsbA7uKANRGV",
        "colab": {
          "base_uri": "https://localhost:8080/"
        },
        "outputId": "f6b6332e-4d2c-4776-e8f7-2e13d13e29e9"
      },
      "execution_count": null,
      "outputs": [
        {
          "output_type": "stream",
          "name": "stdout",
          "text": [
            "  adding: content/drive/MyDrive/csv/ (stored 0%)\n",
            "  adding: content/drive/MyDrive/csv/txt_non_corr_3.csv (deflated 68%)\n",
            "  adding: content/drive/MyDrive/csv/txt_non_corr_6.csv (deflated 68%)\n",
            "  adding: content/drive/MyDrive/csv/txt_non_corr_9.csv (deflated 68%)\n"
          ]
        }
      ]
    },
    {
      "cell_type": "code",
      "source": [
        "from google.colab import files\n",
        "files.download(\"/content/drive/MyDrive/csv_corr.zip\")"
      ],
      "metadata": {
        "id": "hJcNpD09zcsL",
        "outputId": "c5ee3b48-b931-4c1a-9a8a-43ea400470bf",
        "colab": {
          "base_uri": "https://localhost:8080/",
          "height": 17
        }
      },
      "execution_count": null,
      "outputs": [
        {
          "output_type": "display_data",
          "data": {
            "text/plain": [
              "<IPython.core.display.Javascript object>"
            ],
            "application/javascript": [
              "\n",
              "    async function download(id, filename, size) {\n",
              "      if (!google.colab.kernel.accessAllowed) {\n",
              "        return;\n",
              "      }\n",
              "      const div = document.createElement('div');\n",
              "      const label = document.createElement('label');\n",
              "      label.textContent = `Downloading \"${filename}\": `;\n",
              "      div.appendChild(label);\n",
              "      const progress = document.createElement('progress');\n",
              "      progress.max = size;\n",
              "      div.appendChild(progress);\n",
              "      document.body.appendChild(div);\n",
              "\n",
              "      const buffers = [];\n",
              "      let downloaded = 0;\n",
              "\n",
              "      const channel = await google.colab.kernel.comms.open(id);\n",
              "      // Send a message to notify the kernel that we're ready.\n",
              "      channel.send({})\n",
              "\n",
              "      for await (const message of channel.messages) {\n",
              "        // Send a message to notify the kernel that we're ready.\n",
              "        channel.send({})\n",
              "        if (message.buffers) {\n",
              "          for (const buffer of message.buffers) {\n",
              "            buffers.push(buffer);\n",
              "            downloaded += buffer.byteLength;\n",
              "            progress.value = downloaded;\n",
              "          }\n",
              "        }\n",
              "      }\n",
              "      const blob = new Blob(buffers, {type: 'application/binary'});\n",
              "      const a = document.createElement('a');\n",
              "      a.href = window.URL.createObjectURL(blob);\n",
              "      a.download = filename;\n",
              "      div.appendChild(a);\n",
              "      a.click();\n",
              "      div.remove();\n",
              "    }\n",
              "  "
            ]
          },
          "metadata": {}
        },
        {
          "output_type": "display_data",
          "data": {
            "text/plain": [
              "<IPython.core.display.Javascript object>"
            ],
            "application/javascript": [
              "download(\"download_1c7ce890-01d4-405d-9e3b-ef79e4b1ccd3\", \"csv.zip\", 60397)"
            ]
          },
          "metadata": {}
        }
      ]
    },
    {
      "cell_type": "code",
      "source": [],
      "metadata": {
        "id": "5G4gziA0zkvD"
      },
      "execution_count": null,
      "outputs": []
    }
  ]
}